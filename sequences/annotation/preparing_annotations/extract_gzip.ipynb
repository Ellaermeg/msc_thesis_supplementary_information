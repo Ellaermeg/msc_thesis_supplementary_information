{
 "cells": [
  {
   "cell_type": "code",
   "execution_count": 2,
   "id": "4dffaabc",
   "metadata": {},
   "outputs": [],
   "source": [
    "import gzip\n",
    "import shutil\n",
    "with open('GO_extract.csv', 'rb') as f_in:\n",
    "    with gzip.open('GO_extract.csv.gz', 'wb') as f_out:\n",
    "        shutil.copyfileobj(f_in, f_out)"
   ]
  },
  {
   "cell_type": "code",
   "execution_count": 3,
   "id": "7798eb4a",
   "metadata": {},
   "outputs": [],
   "source": [
    "with open('COG_extract.csv', 'rb') as f_in:\n",
    "    with gzip.open('COG_extract.csv.gz', 'wb') as f_out:\n",
    "        shutil.copyfileobj(f_in, f_out)"
   ]
  },
  {
   "cell_type": "code",
   "execution_count": 4,
   "id": "596938fe",
   "metadata": {},
   "outputs": [],
   "source": [
    "with open('KO_extract.csv', 'rb') as f_in:\n",
    "    with gzip.open('KO_extract.csv.gz', 'wb') as f_out:\n",
    "        shutil.copyfileobj(f_in, f_out)"
   ]
  },
  {
   "cell_type": "code",
   "execution_count": 6,
   "id": "9f8f067b",
   "metadata": {},
   "outputs": [],
   "source": [
    "with open('COG_extract.csv.gz', 'rb') as f_in:\n",
    "    with gzip.open('COG_extract.csv.gz.gz', 'wb') as f_out:\n",
    "        shutil.copyfileobj(f_in, f_out)"
   ]
  }
 ],
 "metadata": {
  "kernelspec": {
   "display_name": "Python 3",
   "language": "python",
   "name": "python3"
  },
  "language_info": {
   "codemirror_mode": {
    "name": "ipython",
    "version": 3
   },
   "file_extension": ".py",
   "mimetype": "text/x-python",
   "name": "python",
   "nbconvert_exporter": "python",
   "pygments_lexer": "ipython3",
   "version": "3.8.8"
  }
 },
 "nbformat": 4,
 "nbformat_minor": 5
}
